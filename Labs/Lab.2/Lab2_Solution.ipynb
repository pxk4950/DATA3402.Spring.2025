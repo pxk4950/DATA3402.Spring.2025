{
 "cells": [
  {
   "cell_type": "markdown",
   "metadata": {},
   "source": [
    "## Lab 2- Tic Tac Toe\n",
    "\n",
    "In this lab your will build a n x n Tic Tac Toe game. As you do the exercises, make sure your solutions work for any size Tic Tac Toe game. "
   ]
  },
  {
   "cell_type": "markdown",
   "metadata": {},
   "source": [
    "*Exercise 1:* Write a function that creates an n by n matrix (of list of lists) which will represent the state of a Tie Tac Toe game. Let 0, 1, and 2 represent empty, \"X\", and \"O\", respectively.\n"
   ]
  },
  {
   "cell_type": "code",
   "execution_count": 1,
   "metadata": {},
   "outputs": [],
   "source": [
    "# Write you solution here\n",
    "empty = 0\n",
    "player_x = 1\n",
    "player_o = 2\n",
    "\n",
    "def create_matrix(n):\n",
    "    matrix = [[empty] * n for i in range(n)]\n",
    "    return matrix"
   ]
  },
  {
   "cell_type": "code",
   "execution_count": 2,
   "metadata": {},
   "outputs": [
    {
     "name": "stdout",
     "output_type": "stream",
     "text": [
      "[0, 0, 0]\n",
      "[0, 0, 0]\n",
      "[0, 0, 0]\n"
     ]
    }
   ],
   "source": [
    "# Test your solution here\n",
    "n = 3  #creating a 3x3 matrix\n",
    "game_matrix = create_matrix(n)\n",
    "for row in game_matrix:\n",
    "    print(row)"
   ]
  },
  {
   "cell_type": "markdown",
   "metadata": {},
   "source": [
    "*Exercise 2:* Write a function that takes 2 integers `n` and `m` as input and draws a `n` by `m` game board. For example the following is a 3x3 board:\n",
    "```\n",
    "   --- --- --- \n",
    "  |   |   |   | \n",
    "   --- --- ---  \n",
    "  |   |   |   | \n",
    "   --- --- ---  \n",
    "  |   |   |   | \n",
    "   --- --- --- \n",
    "   ```"
   ]
  },
  {
   "cell_type": "code",
   "execution_count": 3,
   "metadata": {},
   "outputs": [],
   "source": [
    "# Write you solution here\n",
    "def draw_game_board(n,m):\n",
    "    for i in range(n):\n",
    "        print(\" ---\" * m)\n",
    "        print(\"|   \" * (m + 1))\n",
    "    print (\" ---\"* m)\n",
    "        "
   ]
  },
  {
   "cell_type": "code",
   "execution_count": 4,
   "metadata": {},
   "outputs": [
    {
     "name": "stdout",
     "output_type": "stream",
     "text": [
      "Enter number of rows: 3\n",
      "Enter number of columns: 4\n",
      " --- --- --- ---\n",
      "|   |   |   |   |   \n",
      " --- --- --- ---\n",
      "|   |   |   |   |   \n",
      " --- --- --- ---\n",
      "|   |   |   |   |   \n",
      " --- --- --- ---\n"
     ]
    }
   ],
   "source": [
    "# Test your solution here\n",
    "n = int(input(\"Enter number of rows: \"))\n",
    "m = int(input(\"Enter number of columns: \"))\n",
    "game_board = draw_game_board(n,m)"
   ]
  },
  {
   "cell_type": "markdown",
   "metadata": {},
   "source": [
    "*Exercise 3:* Modify exercise 2, so that it takes a matrix of the form from exercise 1 and draws a tic-tac-tie board with \"X\"s and \"O\"s.  "
   ]
  },
  {
   "cell_type": "code",
   "execution_count": 5,
   "metadata": {},
   "outputs": [],
   "source": [
    "# Write you solution here\n",
    "def draw_game_board(matrix):\n",
    "    symbols = {0: \" \", 1: \"X\", 2: \"O\"}\n",
    "    n = len(matrix)\n",
    "    \n",
    "    for row in matrix:\n",
    "        print(\" ---\" * n)\n",
    "        print(\"| \" + \" | \".join(symbols[cell] for cell in row) + \" |\")\n",
    "    print(\" ---\" * n)"
   ]
  },
  {
   "cell_type": "code",
   "execution_count": 6,
   "metadata": {},
   "outputs": [
    {
     "name": "stdout",
     "output_type": "stream",
     "text": [
      " --- --- ---\n",
      "|   | X |   |\n",
      " --- --- ---\n",
      "|   |   | O |\n",
      " --- --- ---\n",
      "| X |   |   |\n",
      " --- --- ---\n"
     ]
    }
   ],
   "source": [
    "# Test your solution here\n",
    "board = create_matrix (3)\n",
    "board[0][1] = player_x\n",
    "board[1][2] = player_o\n",
    "board[2][0] = player_x\n",
    "\n",
    "draw_game_board(board)"
   ]
  },
  {
   "cell_type": "markdown",
   "metadata": {},
   "source": [
    "*Exercise 4:* Write a function that takes a `n` by `n` matrix representing a tic-tac-toe game, and returns -1, 0, 1, or 2 indicating the game is incomplete, the game is a draw, player 1 has won, or player 2 has one, respectively. Here are some example inputs you can use to test your code:"
   ]
  },
  {
   "cell_type": "code",
   "execution_count": 7,
   "metadata": {},
   "outputs": [],
   "source": [
    "# Write you solution here\n",
    "def check_winner(board):\n",
    "    n = len(board)\n",
    "    for i in range(n):\n",
    "        if all(board[i][j] == 1 for j in range(n)):  # Check row for player 1\n",
    "            return 1\n",
    "        if all(board[i][j] == 2 for j in range(n)):  # Check row for player 2\n",
    "            return 2\n",
    "        if all(board[j][i] == 1 for j in range(n)):  # Check column for player 1\n",
    "            return 1\n",
    "        if all(board[j][i] == 2 for j in range(n)):  # Check column for player 2\n",
    "            return 2\n",
    "\n",
    "    if all(board[i][i] == 1 for i in range(n)):\n",
    "        return 1\n",
    "    if all(board[i][i] == 2 for i in range(n)):\n",
    "        return 2\n",
    "    if all(board[i][n - 1 - i] == 1 for i in range(n)):\n",
    "        return 1\n",
    "    if all(board[i][n - 1 - i] == 2 for i in range(n)):\n",
    "        return 2\n",
    "    \n",
    "    if any(0 in row for row in board):\n",
    "        return -1\n",
    "    return 0"
   ]
  },
  {
   "cell_type": "code",
   "execution_count": 8,
   "metadata": {},
   "outputs": [
    {
     "name": "stdout",
     "output_type": "stream",
     "text": [
      "2\n"
     ]
    }
   ],
   "source": [
    "# Test your solution here\n",
    "winner_is_2 = [[2, 2, 0],\n",
    "\t[2, 1, 0],\n",
    "\t[2, 1, 1]]\n",
    "\n",
    "print (check_winner(winner_is_2))"
   ]
  },
  {
   "cell_type": "code",
   "execution_count": 9,
   "metadata": {},
   "outputs": [
    {
     "name": "stdout",
     "output_type": "stream",
     "text": [
      "1\n"
     ]
    }
   ],
   "source": [
    "winner_is_1 = [[1, 2, 0],\n",
    "\t[2, 1, 0],\n",
    "\t[2, 1, 1]]\n",
    "\n",
    "print(check_winner(winner_is_1))"
   ]
  },
  {
   "cell_type": "code",
   "execution_count": 10,
   "metadata": {},
   "outputs": [
    {
     "name": "stdout",
     "output_type": "stream",
     "text": [
      "1\n"
     ]
    }
   ],
   "source": [
    "winner_is_also_1 = [[0, 1, 0],\n",
    "\t[2, 1, 0],\n",
    "\t[2, 1, 1]]\n",
    "\n",
    "print(check_winner(winner_is_also_1))"
   ]
  },
  {
   "cell_type": "code",
   "execution_count": 11,
   "metadata": {},
   "outputs": [
    {
     "name": "stdout",
     "output_type": "stream",
     "text": [
      "-1\n"
     ]
    }
   ],
   "source": [
    "no_winner = [[1, 2, 0],\n",
    "\t[2, 1, 0],\n",
    "\t[2, 1, 2]]\n",
    "\n",
    "print(check_winner(no_winner))"
   ]
  },
  {
   "cell_type": "code",
   "execution_count": 12,
   "metadata": {},
   "outputs": [
    {
     "name": "stdout",
     "output_type": "stream",
     "text": [
      "-1\n"
     ]
    }
   ],
   "source": [
    "also_no_winner = [[1, 2, 0],\n",
    "\t[2, 1, 0],\n",
    "\t[2, 1, 0]]\n",
    "\n",
    "print(check_winner(also_no_winner))"
   ]
  },
  {
   "cell_type": "markdown",
   "metadata": {},
   "source": [
    "*Exercise 5:* Write a function that takes a game board, player number, and `(x,y)` coordinates and places \"X\" or \"O\" in the correct location of the game board. Make sure that you only allow filling previously empty locations. Return `True` or `False` to indicate successful placement of \"X\" or \"O\"."
   ]
  },
  {
   "cell_type": "code",
   "execution_count": 12,
   "metadata": {},
   "outputs": [],
   "source": [
    "# Write you solution here\n",
    "def place_move(board, player, x, y):\n",
    "    if x < 0 or x >= len(board) or y < 0 or y >= len(board[0]):\n",
    "        return False\n",
    "\n",
    "    if board[x][y] != 0:\n",
    "        return False\n",
    "\n",
    "    board[x][y] = player\n",
    "    return True"
   ]
  },
  {
   "cell_type": "code",
   "execution_count": 13,
   "metadata": {},
   "outputs": [
    {
     "name": "stdout",
     "output_type": "stream",
     "text": [
      "True\n",
      "True\n",
      "False\n",
      "False\n"
     ]
    }
   ],
   "source": [
    "# Test your solution here\n",
    "board = [\n",
    "    [0, 0, 0],\n",
    "    [0, 0, 0],\n",
    "    [0, 0, 0]\n",
    "]\n",
    "print(place_move(board, 1, 1, 1))\n",
    "\n",
    "print(place_move(board, 2, 2, 2))\n",
    "\n",
    "print(place_move(board, 2, 1, 1))\n",
    "\n",
    "print(place_move(board, 1, 2, 3))\n"
   ]
  },
  {
   "cell_type": "markdown",
   "metadata": {},
   "source": [
    "*Exercise 6:* Modify Exercise 3 to show column and row labels so that players can specify location using \"A2\" or \"C1\"."
   ]
  },
  {
   "cell_type": "code",
   "execution_count": 14,
   "metadata": {},
   "outputs": [],
   "source": [
    "# Write you solution here\n",
    "empty = 0\n",
    "player_x = 1\n",
    "player_o = 2\n",
    "\n",
    "def create_matrix(n):\n",
    "    return [[empty] * n for _ in range(n)]\n",
    "\n",
    "def draw_game_board(matrix):\n",
    "    symbols = {0: \" \", 1: \"X\", 2: \"O\"}\n",
    "    n = len(matrix)\n",
    "    \n",
    "    col_label = \"    \" + \"   \".join(chr(65 + i) for i in range(n))  \n",
    "    print(col_label)\n",
    "\n",
    "    for i, row in enumerate(matrix):\n",
    "        print(\"  \" + \" ---\" * n)\n",
    "        row_label = str(i + 1)\n",
    "        print(row_label + \" | \" + \" | \".join(symbols[cell] for cell in row) + \" |\")\n",
    "    print(\"  \" + \" ---\" * n)\n"
   ]
  },
  {
   "cell_type": "code",
   "execution_count": 15,
   "metadata": {},
   "outputs": [
    {
     "name": "stdout",
     "output_type": "stream",
     "text": [
      "    A   B   C\n",
      "   --- --- ---\n",
      "1 |   | X |   |\n",
      "   --- --- ---\n",
      "2 |   |   | O |\n",
      "   --- --- ---\n",
      "3 | X |   |   |\n",
      "   --- --- ---\n"
     ]
    }
   ],
   "source": [
    "# Test your solution here\n",
    "board = create_matrix(3)\n",
    "board[0][1] = player_x \n",
    "board[1][2] = player_o\n",
    "board[2][0] = player_x\n",
    "\n",
    "draw_game_board(board)"
   ]
  },
  {
   "cell_type": "markdown",
   "metadata": {},
   "source": [
    "*Exercise 7:* Write a function that takes a board, player number, and location specified as in exercise 6 and then calls exercise 5 to correctly modify the board.  "
   ]
  },
  {
   "cell_type": "code",
   "execution_count": 16,
   "metadata": {},
   "outputs": [],
   "source": [
    "# Write you solution here\n",
    "def place_move_named(board,player,location):\n",
    "    n = len(board)\n",
    "    \n",
    "    if len(location)<2:\n",
    "        return False\n",
    "    \n",
    "    column = location[0].upper()\n",
    "    row = location[1:]\n",
    "    \n",
    "    if column <chr(65) or column > chr(65+n-1):\n",
    "        return False\n",
    "    if not row.isdigit():\n",
    "        return False\n",
    "    \n",
    "    row_index = int(row) - 1 \n",
    "\n",
    "    if row_index < 0 or row_index >= n:\n",
    "        return False \n",
    "    col_index = ord(column) - 65 \n",
    "    \n",
    "    return place_move(board, player, row_index, col_index)\n",
    "\n",
    "\n",
    "        "
   ]
  },
  {
   "cell_type": "code",
   "execution_count": 17,
   "metadata": {
    "scrolled": true
   },
   "outputs": [
    {
     "name": "stdout",
     "output_type": "stream",
     "text": [
      "True\n",
      "True\n",
      "True\n",
      "True\n",
      "False\n",
      "False\n",
      "    A   B   C\n",
      "   --- --- ---\n",
      "1 |   | X | O |\n",
      "   --- --- ---\n",
      "2 |   | O |   |\n",
      "   --- --- ---\n",
      "3 | X |   |   |\n",
      "   --- --- ---\n"
     ]
    }
   ],
   "source": [
    "# Test your solution here\n",
    "board = create_matrix(3)\n",
    "\n",
    "print(place_move_named(board, 1, \"B1\"))  # True (X at B1)\n",
    "print(place_move_named(board, 2, \"B2\"))  # True (O at B2)\n",
    "print(place_move_named(board, 1, \"A3\"))  # True (X at A3)\n",
    "print(place_move_named(board, 2, \"C1\"))  # True (O at C1)\n",
    "print(place_move_named(board, 2, \"B1\"))  # False (B1 already occupied)\n",
    "print(place_move_named(board, 2, \"D1\"))  # False (Invalid column)\n",
    "\n",
    "draw_game_board(board)  "
   ]
  },
  {
   "cell_type": "markdown",
   "metadata": {},
   "source": [
    "*Exercise 8:* Write a function is called with a board and player number, takes input from the player using python's `input`, and modifies the board using your function from exercise 7. Note that you should keep asking for input until you have gotten a valid input that results in a valid move."
   ]
  },
  {
   "cell_type": "code",
   "execution_count": 18,
   "metadata": {},
   "outputs": [],
   "source": [
    "# Write you solution here\n",
    "def get_player_move(board, player):\n",
    "    while True:\n",
    "        location = input(f\"Player {player} ({'X' if player == 1 else 'O'}), enter your move (e.g., A2): \").strip().upper()\n",
    "\n",
    "        if place_move_named(board, player, location):\n",
    "            break\n",
    "        else:\n",
    "            print(\"Invalid move. Try again.\") "
   ]
  },
  {
   "cell_type": "code",
   "execution_count": 19,
   "metadata": {},
   "outputs": [
    {
     "name": "stdout",
     "output_type": "stream",
     "text": [
      "    A   B   C\n",
      "   --- --- ---\n",
      "1 |   |   |   |\n",
      "   --- --- ---\n",
      "2 |   |   |   |\n",
      "   --- --- ---\n",
      "3 |   |   |   |\n",
      "   --- --- ---\n",
      "Player 1 (X), enter your move (e.g., A2): a1\n",
      "    A   B   C\n",
      "   --- --- ---\n",
      "1 | X |   |   |\n",
      "   --- --- ---\n",
      "2 |   |   |   |\n",
      "   --- --- ---\n",
      "3 |   |   |   |\n",
      "   --- --- ---\n",
      "Player 2 (O), enter your move (e.g., A2): a2\n",
      "    A   B   C\n",
      "   --- --- ---\n",
      "1 | X |   |   |\n",
      "   --- --- ---\n",
      "2 | O |   |   |\n",
      "   --- --- ---\n",
      "3 |   |   |   |\n",
      "   --- --- ---\n"
     ]
    }
   ],
   "source": [
    "# Test your solution here\n",
    "board = create_matrix(3)\n",
    "draw_game_board(board)\n",
    "\n",
    "# Ask Player 1 for input\n",
    "get_player_move(board, 1)\n",
    "draw_game_board(board)\n",
    "\n",
    "# Ask Player 2 for input\n",
    "get_player_move(board, 2)\n",
    "draw_game_board(board)"
   ]
  },
  {
   "cell_type": "markdown",
   "metadata": {},
   "source": [
    "*Exercise 9:* Use all of the previous exercises to implement a full tic-tac-toe game, where an appropriate board is drawn, 2 players are repeatedly asked for a location coordinates of where they wish to place a mark, and the game status is checked until a player wins or a draw occurs."
   ]
  },
  {
   "cell_type": "code",
   "execution_count": 20,
   "metadata": {},
   "outputs": [
    {
     "name": "stdout",
     "output_type": "stream",
     "text": [
      "Enter the size of the Tic-Tac-Toe board: 4\n",
      "    A   B   C   D\n",
      "   --- --- --- ---\n",
      "1 |   |   |   |   |\n",
      "   --- --- --- ---\n",
      "2 |   |   |   |   |\n",
      "   --- --- --- ---\n",
      "3 |   |   |   |   |\n",
      "   --- --- --- ---\n",
      "4 |   |   |   |   |\n",
      "   --- --- --- ---\n",
      "Player 1 (X), enter your move (e.g., A2): c3\n",
      "    A   B   C   D\n",
      "   --- --- --- ---\n",
      "1 |   |   |   |   |\n",
      "   --- --- --- ---\n",
      "2 |   |   |   |   |\n",
      "   --- --- --- ---\n",
      "3 |   |   | X |   |\n",
      "   --- --- --- ---\n",
      "4 |   |   |   |   |\n",
      "   --- --- --- ---\n",
      "Player 2 (O), enter your move (e.g., A2): 1a\n",
      "Invalid move. Try again.\n",
      "Player 2 (O), enter your move (e.g., A2): a1\n",
      "    A   B   C   D\n",
      "   --- --- --- ---\n",
      "1 | O |   |   |   |\n",
      "   --- --- --- ---\n",
      "2 |   |   |   |   |\n",
      "   --- --- --- ---\n",
      "3 |   |   | X |   |\n",
      "   --- --- --- ---\n",
      "4 |   |   |   |   |\n",
      "   --- --- --- ---\n",
      "Player 1 (X), enter your move (e.g., A2): c1\n",
      "    A   B   C   D\n",
      "   --- --- --- ---\n",
      "1 | O |   | X |   |\n",
      "   --- --- --- ---\n",
      "2 |   |   |   |   |\n",
      "   --- --- --- ---\n",
      "3 |   |   | X |   |\n",
      "   --- --- --- ---\n",
      "4 |   |   |   |   |\n",
      "   --- --- --- ---\n",
      "Player 2 (O), enter your move (e.g., A2): b2\n",
      "    A   B   C   D\n",
      "   --- --- --- ---\n",
      "1 | O |   | X |   |\n",
      "   --- --- --- ---\n",
      "2 |   | O |   |   |\n",
      "   --- --- --- ---\n",
      "3 |   |   | X |   |\n",
      "   --- --- --- ---\n",
      "4 |   |   |   |   |\n",
      "   --- --- --- ---\n",
      "Player 1 (X), enter your move (e.g., A2): c2\n",
      "    A   B   C   D\n",
      "   --- --- --- ---\n",
      "1 | O |   | X |   |\n",
      "   --- --- --- ---\n",
      "2 |   | O | X |   |\n",
      "   --- --- --- ---\n",
      "3 |   |   | X |   |\n",
      "   --- --- --- ---\n",
      "4 |   |   |   |   |\n",
      "   --- --- --- ---\n",
      "Player 2 (O), enter your move (e.g., A2): a3\n",
      "    A   B   C   D\n",
      "   --- --- --- ---\n",
      "1 | O |   | X |   |\n",
      "   --- --- --- ---\n",
      "2 |   | O | X |   |\n",
      "   --- --- --- ---\n",
      "3 | O |   | X |   |\n",
      "   --- --- --- ---\n",
      "4 |   |   |   |   |\n",
      "   --- --- --- ---\n",
      "Player 1 (X), enter your move (e.g., A2): c4\n",
      "    A   B   C   D\n",
      "   --- --- --- ---\n",
      "1 | O |   | X |   |\n",
      "   --- --- --- ---\n",
      "2 |   | O | X |   |\n",
      "   --- --- --- ---\n",
      "3 | O |   | X |   |\n",
      "   --- --- --- ---\n",
      "4 |   |   | X |   |\n",
      "   --- --- --- ---\n",
      "Player X wins!\n"
     ]
    }
   ],
   "source": [
    "# Write you solution here\n",
    "def play_tic_tac_toe(n):\n",
    "    board = create_matrix(n)\n",
    "    current_player = player_x\n",
    "    \n",
    "    while True:\n",
    "        draw_game_board(board)\n",
    "        get_player_move(board, current_player)\n",
    "        \n",
    "        result = check_winner(board)\n",
    "        if result == 1:\n",
    "            draw_game_board(board)\n",
    "            print(\"Player X wins!\")\n",
    "            break\n",
    "        elif result == 2:\n",
    "            draw_game_board(board)\n",
    "            print(\"Player O wins!\")\n",
    "            break\n",
    "        elif result == 0:\n",
    "            draw_game_board(board)\n",
    "            print(\"It's a draw!\")\n",
    "            break\n",
    "        \n",
    "        current_player = player_o if current_player == player_x else player_x\n",
    "\n",
    "# Start the game\n",
    "size = int(input(\"Enter the size of the Tic-Tac-Toe board: \"))\n",
    "play_tic_tac_toe(size)"
   ]
  },
  {
   "cell_type": "code",
   "execution_count": null,
   "metadata": {
    "collapsed": true
   },
   "outputs": [],
   "source": [
    "# Test your solution here"
   ]
  },
  {
   "cell_type": "markdown",
   "metadata": {},
   "source": [
    "*Exercise 10:* Test that your game works for 5x5 Tic Tac Toe.  "
   ]
  },
  {
   "cell_type": "code",
   "execution_count": 21,
   "metadata": {},
   "outputs": [
    {
     "name": "stdout",
     "output_type": "stream",
     "text": [
      "Enter the size of the Tic-Tac-Toe board: 5\n",
      "    A   B   C   D   E\n",
      "   --- --- --- --- ---\n",
      "1 |   |   |   |   |   |\n",
      "   --- --- --- --- ---\n",
      "2 |   |   |   |   |   |\n",
      "   --- --- --- --- ---\n",
      "3 |   |   |   |   |   |\n",
      "   --- --- --- --- ---\n",
      "4 |   |   |   |   |   |\n",
      "   --- --- --- --- ---\n",
      "5 |   |   |   |   |   |\n",
      "   --- --- --- --- ---\n",
      "Player 1 (X), enter your move (e.g., A2): a1\n",
      "    A   B   C   D   E\n",
      "   --- --- --- --- ---\n",
      "1 | X |   |   |   |   |\n",
      "   --- --- --- --- ---\n",
      "2 |   |   |   |   |   |\n",
      "   --- --- --- --- ---\n",
      "3 |   |   |   |   |   |\n",
      "   --- --- --- --- ---\n",
      "4 |   |   |   |   |   |\n",
      "   --- --- --- --- ---\n",
      "5 |   |   |   |   |   |\n",
      "   --- --- --- --- ---\n",
      "Player 2 (O), enter your move (e.g., A2): b2\n",
      "    A   B   C   D   E\n",
      "   --- --- --- --- ---\n",
      "1 | X |   |   |   |   |\n",
      "   --- --- --- --- ---\n",
      "2 |   | O |   |   |   |\n",
      "   --- --- --- --- ---\n",
      "3 |   |   |   |   |   |\n",
      "   --- --- --- --- ---\n",
      "4 |   |   |   |   |   |\n",
      "   --- --- --- --- ---\n",
      "5 |   |   |   |   |   |\n",
      "   --- --- --- --- ---\n",
      "Player 1 (X), enter your move (e.g., A2): a2\n",
      "    A   B   C   D   E\n",
      "   --- --- --- --- ---\n",
      "1 | X |   |   |   |   |\n",
      "   --- --- --- --- ---\n",
      "2 | X | O |   |   |   |\n",
      "   --- --- --- --- ---\n",
      "3 |   |   |   |   |   |\n",
      "   --- --- --- --- ---\n",
      "4 |   |   |   |   |   |\n",
      "   --- --- --- --- ---\n",
      "5 |   |   |   |   |   |\n",
      "   --- --- --- --- ---\n",
      "Player 2 (O), enter your move (e.g., A2): c2\n",
      "    A   B   C   D   E\n",
      "   --- --- --- --- ---\n",
      "1 | X |   |   |   |   |\n",
      "   --- --- --- --- ---\n",
      "2 | X | O | O |   |   |\n",
      "   --- --- --- --- ---\n",
      "3 |   |   |   |   |   |\n",
      "   --- --- --- --- ---\n",
      "4 |   |   |   |   |   |\n",
      "   --- --- --- --- ---\n",
      "5 |   |   |   |   |   |\n",
      "   --- --- --- --- ---\n",
      "Player 1 (X), enter your move (e.g., A2): a3\n",
      "    A   B   C   D   E\n",
      "   --- --- --- --- ---\n",
      "1 | X |   |   |   |   |\n",
      "   --- --- --- --- ---\n",
      "2 | X | O | O |   |   |\n",
      "   --- --- --- --- ---\n",
      "3 | X |   |   |   |   |\n",
      "   --- --- --- --- ---\n",
      "4 |   |   |   |   |   |\n",
      "   --- --- --- --- ---\n",
      "5 |   |   |   |   |   |\n",
      "   --- --- --- --- ---\n",
      "Player 2 (O), enter your move (e.g., A2): a4\n",
      "    A   B   C   D   E\n",
      "   --- --- --- --- ---\n",
      "1 | X |   |   |   |   |\n",
      "   --- --- --- --- ---\n",
      "2 | X | O | O |   |   |\n",
      "   --- --- --- --- ---\n",
      "3 | X |   |   |   |   |\n",
      "   --- --- --- --- ---\n",
      "4 | O |   |   |   |   |\n",
      "   --- --- --- --- ---\n",
      "5 |   |   |   |   |   |\n",
      "   --- --- --- --- ---\n",
      "Player 1 (X), enter your move (e.g., A2): a5\n",
      "    A   B   C   D   E\n",
      "   --- --- --- --- ---\n",
      "1 | X |   |   |   |   |\n",
      "   --- --- --- --- ---\n",
      "2 | X | O | O |   |   |\n",
      "   --- --- --- --- ---\n",
      "3 | X |   |   |   |   |\n",
      "   --- --- --- --- ---\n",
      "4 | O |   |   |   |   |\n",
      "   --- --- --- --- ---\n",
      "5 | X |   |   |   |   |\n",
      "   --- --- --- --- ---\n",
      "Player 2 (O), enter your move (e.g., A2): b1\n",
      "    A   B   C   D   E\n",
      "   --- --- --- --- ---\n",
      "1 | X | O |   |   |   |\n",
      "   --- --- --- --- ---\n",
      "2 | X | O | O |   |   |\n",
      "   --- --- --- --- ---\n",
      "3 | X |   |   |   |   |\n",
      "   --- --- --- --- ---\n",
      "4 | O |   |   |   |   |\n",
      "   --- --- --- --- ---\n",
      "5 | X |   |   |   |   |\n",
      "   --- --- --- --- ---\n",
      "Player 1 (X), enter your move (e.g., A2): e2\n",
      "    A   B   C   D   E\n",
      "   --- --- --- --- ---\n",
      "1 | X | O |   |   |   |\n",
      "   --- --- --- --- ---\n",
      "2 | X | O | O |   | X |\n",
      "   --- --- --- --- ---\n",
      "3 | X |   |   |   |   |\n",
      "   --- --- --- --- ---\n",
      "4 | O |   |   |   |   |\n",
      "   --- --- --- --- ---\n",
      "5 | X |   |   |   |   |\n",
      "   --- --- --- --- ---\n",
      "Player 2 (O), enter your move (e.g., A2): b3\n",
      "    A   B   C   D   E\n",
      "   --- --- --- --- ---\n",
      "1 | X | O |   |   |   |\n",
      "   --- --- --- --- ---\n",
      "2 | X | O | O |   | X |\n",
      "   --- --- --- --- ---\n",
      "3 | X | O |   |   |   |\n",
      "   --- --- --- --- ---\n",
      "4 | O |   |   |   |   |\n",
      "   --- --- --- --- ---\n",
      "5 | X |   |   |   |   |\n",
      "   --- --- --- --- ---\n",
      "Player 1 (X), enter your move (e.g., A2): b4\n",
      "    A   B   C   D   E\n",
      "   --- --- --- --- ---\n",
      "1 | X | O |   |   |   |\n",
      "   --- --- --- --- ---\n",
      "2 | X | O | O |   | X |\n",
      "   --- --- --- --- ---\n",
      "3 | X | O |   |   |   |\n",
      "   --- --- --- --- ---\n",
      "4 | O | X |   |   |   |\n",
      "   --- --- --- --- ---\n",
      "5 | X |   |   |   |   |\n",
      "   --- --- --- --- ---\n",
      "Player 2 (O), enter your move (e.g., A2): b5\n",
      "    A   B   C   D   E\n",
      "   --- --- --- --- ---\n",
      "1 | X | O |   |   |   |\n",
      "   --- --- --- --- ---\n",
      "2 | X | O | O |   | X |\n",
      "   --- --- --- --- ---\n",
      "3 | X | O |   |   |   |\n",
      "   --- --- --- --- ---\n",
      "4 | O | X |   |   |   |\n",
      "   --- --- --- --- ---\n",
      "5 | X | O |   |   |   |\n",
      "   --- --- --- --- ---\n",
      "Player 1 (X), enter your move (e.g., A2): c1\n",
      "    A   B   C   D   E\n",
      "   --- --- --- --- ---\n",
      "1 | X | O | X |   |   |\n",
      "   --- --- --- --- ---\n",
      "2 | X | O | O |   | X |\n",
      "   --- --- --- --- ---\n",
      "3 | X | O |   |   |   |\n",
      "   --- --- --- --- ---\n",
      "4 | O | X |   |   |   |\n",
      "   --- --- --- --- ---\n",
      "5 | X | O |   |   |   |\n",
      "   --- --- --- --- ---\n",
      "Player 2 (O), enter your move (e.g., A2): c3\n",
      "    A   B   C   D   E\n",
      "   --- --- --- --- ---\n",
      "1 | X | O | X |   |   |\n",
      "   --- --- --- --- ---\n",
      "2 | X | O | O |   | X |\n",
      "   --- --- --- --- ---\n",
      "3 | X | O | O |   |   |\n",
      "   --- --- --- --- ---\n",
      "4 | O | X |   |   |   |\n",
      "   --- --- --- --- ---\n",
      "5 | X | O |   |   |   |\n",
      "   --- --- --- --- ---\n",
      "Player 1 (X), enter your move (e.g., A2): c4\n",
      "    A   B   C   D   E\n",
      "   --- --- --- --- ---\n",
      "1 | X | O | X |   |   |\n",
      "   --- --- --- --- ---\n",
      "2 | X | O | O |   | X |\n",
      "   --- --- --- --- ---\n",
      "3 | X | O | O |   |   |\n",
      "   --- --- --- --- ---\n",
      "4 | O | X | X |   |   |\n",
      "   --- --- --- --- ---\n",
      "5 | X | O |   |   |   |\n",
      "   --- --- --- --- ---\n",
      "Player 2 (O), enter your move (e.g., A2): c5\n",
      "    A   B   C   D   E\n",
      "   --- --- --- --- ---\n",
      "1 | X | O | X |   |   |\n",
      "   --- --- --- --- ---\n",
      "2 | X | O | O |   | X |\n",
      "   --- --- --- --- ---\n",
      "3 | X | O | O |   |   |\n",
      "   --- --- --- --- ---\n",
      "4 | O | X | X |   |   |\n",
      "   --- --- --- --- ---\n",
      "5 | X | O | O |   |   |\n",
      "   --- --- --- --- ---\n",
      "Player 1 (X), enter your move (e.g., A2): d1\n",
      "    A   B   C   D   E\n",
      "   --- --- --- --- ---\n",
      "1 | X | O | X | X |   |\n",
      "   --- --- --- --- ---\n",
      "2 | X | O | O |   | X |\n",
      "   --- --- --- --- ---\n",
      "3 | X | O | O |   |   |\n",
      "   --- --- --- --- ---\n",
      "4 | O | X | X |   |   |\n",
      "   --- --- --- --- ---\n",
      "5 | X | O | O |   |   |\n",
      "   --- --- --- --- ---\n",
      "Player 2 (O), enter your move (e.g., A2): d2\n",
      "    A   B   C   D   E\n",
      "   --- --- --- --- ---\n",
      "1 | X | O | X | X |   |\n",
      "   --- --- --- --- ---\n",
      "2 | X | O | O | O | X |\n",
      "   --- --- --- --- ---\n",
      "3 | X | O | O |   |   |\n",
      "   --- --- --- --- ---\n",
      "4 | O | X | X |   |   |\n",
      "   --- --- --- --- ---\n",
      "5 | X | O | O |   |   |\n",
      "   --- --- --- --- ---\n",
      "Player 1 (X), enter your move (e.g., A2): d3\n",
      "    A   B   C   D   E\n",
      "   --- --- --- --- ---\n",
      "1 | X | O | X | X |   |\n",
      "   --- --- --- --- ---\n",
      "2 | X | O | O | O | X |\n",
      "   --- --- --- --- ---\n",
      "3 | X | O | O | X |   |\n",
      "   --- --- --- --- ---\n",
      "4 | O | X | X |   |   |\n",
      "   --- --- --- --- ---\n",
      "5 | X | O | O |   |   |\n",
      "   --- --- --- --- ---\n",
      "Player 2 (O), enter your move (e.g., A2): d4\n",
      "    A   B   C   D   E\n",
      "   --- --- --- --- ---\n",
      "1 | X | O | X | X |   |\n",
      "   --- --- --- --- ---\n",
      "2 | X | O | O | O | X |\n",
      "   --- --- --- --- ---\n",
      "3 | X | O | O | X |   |\n",
      "   --- --- --- --- ---\n",
      "4 | O | X | X | O |   |\n",
      "   --- --- --- --- ---\n",
      "5 | X | O | O |   |   |\n",
      "   --- --- --- --- ---\n",
      "Player 1 (X), enter your move (e.g., A2): d5\n",
      "    A   B   C   D   E\n",
      "   --- --- --- --- ---\n",
      "1 | X | O | X | X |   |\n",
      "   --- --- --- --- ---\n",
      "2 | X | O | O | O | X |\n",
      "   --- --- --- --- ---\n",
      "3 | X | O | O | X |   |\n",
      "   --- --- --- --- ---\n",
      "4 | O | X | X | O |   |\n",
      "   --- --- --- --- ---\n",
      "5 | X | O | O | X |   |\n",
      "   --- --- --- --- ---\n",
      "Player 2 (O), enter your move (e.g., A2): e1\n",
      "    A   B   C   D   E\n",
      "   --- --- --- --- ---\n",
      "1 | X | O | X | X | O |\n",
      "   --- --- --- --- ---\n",
      "2 | X | O | O | O | X |\n",
      "   --- --- --- --- ---\n",
      "3 | X | O | O | X |   |\n",
      "   --- --- --- --- ---\n",
      "4 | O | X | X | O |   |\n",
      "   --- --- --- --- ---\n",
      "5 | X | O | O | X |   |\n",
      "   --- --- --- --- ---\n",
      "Player 1 (X), enter your move (e.g., A2): e2\n",
      "Invalid move. Try again.\n",
      "Player 1 (X), enter your move (e.g., A2): e3\n",
      "    A   B   C   D   E\n",
      "   --- --- --- --- ---\n",
      "1 | X | O | X | X | O |\n",
      "   --- --- --- --- ---\n",
      "2 | X | O | O | O | X |\n",
      "   --- --- --- --- ---\n",
      "3 | X | O | O | X | X |\n",
      "   --- --- --- --- ---\n",
      "4 | O | X | X | O |   |\n",
      "   --- --- --- --- ---\n",
      "5 | X | O | O | X |   |\n",
      "   --- --- --- --- ---\n",
      "Player 2 (O), enter your move (e.g., A2): e4\n",
      "    A   B   C   D   E\n",
      "   --- --- --- --- ---\n",
      "1 | X | O | X | X | O |\n",
      "   --- --- --- --- ---\n",
      "2 | X | O | O | O | X |\n",
      "   --- --- --- --- ---\n",
      "3 | X | O | O | X | X |\n",
      "   --- --- --- --- ---\n",
      "4 | O | X | X | O | O |\n",
      "   --- --- --- --- ---\n",
      "5 | X | O | O | X |   |\n",
      "   --- --- --- --- ---\n"
     ]
    },
    {
     "name": "stdout",
     "output_type": "stream",
     "text": [
      "Player 1 (X), enter your move (e.g., A2): e5\n",
      "    A   B   C   D   E\n",
      "   --- --- --- --- ---\n",
      "1 | X | O | X | X | O |\n",
      "   --- --- --- --- ---\n",
      "2 | X | O | O | O | X |\n",
      "   --- --- --- --- ---\n",
      "3 | X | O | O | X | X |\n",
      "   --- --- --- --- ---\n",
      "4 | O | X | X | O | O |\n",
      "   --- --- --- --- ---\n",
      "5 | X | O | O | X | X |\n",
      "   --- --- --- --- ---\n",
      "It's a draw!\n"
     ]
    }
   ],
   "source": [
    "# Test your solution here\n",
    "def play_tic_tac_toe(n):\n",
    "    board = create_matrix(n)\n",
    "    current_player = player_x\n",
    "    \n",
    "    while True:\n",
    "        draw_game_board(board)\n",
    "        get_player_move(board, current_player)\n",
    "        \n",
    "        result = check_winner(board)\n",
    "        if result == 1:\n",
    "            draw_game_board(board)\n",
    "            print(\"Player X wins!\")\n",
    "            break\n",
    "        elif result == 2:\n",
    "            draw_game_board(board)\n",
    "            print(\"Player O wins!\")\n",
    "            break\n",
    "        elif result == 0:\n",
    "            draw_game_board(board)\n",
    "            print(\"It's a draw!\")\n",
    "            break\n",
    "        \n",
    "        current_player = player_o if current_player == player_x else player_x\n",
    "\n",
    "# Start the game\n",
    "size = int(input(\"Enter the size of the Tic-Tac-Toe board: \"))\n",
    "play_tic_tac_toe(size)"
   ]
  },
  {
   "cell_type": "markdown",
   "metadata": {},
   "source": [
    "*Exercise 11:* (Advanced / Challenge) Develop a version of the game where one player is the computer. Note that you don't need to do an extensive seach for the best move. You can have the computer simply protect against loosing and otherwise try to win with straight or diagonal patterns."
   ]
  },
  {
   "cell_type": "code",
   "execution_count": null,
   "metadata": {
    "collapsed": true
   },
   "outputs": [],
   "source": [
    "# Write you solution here"
   ]
  },
  {
   "cell_type": "code",
   "execution_count": null,
   "metadata": {
    "collapsed": true
   },
   "outputs": [],
   "source": [
    "# Test your solution here"
   ]
  }
 ],
 "metadata": {
  "kernelspec": {
   "display_name": "Python 3 (ipykernel)",
   "language": "python",
   "name": "python3"
  },
  "language_info": {
   "codemirror_mode": {
    "name": "ipython",
    "version": 3
   },
   "file_extension": ".py",
   "mimetype": "text/x-python",
   "name": "python",
   "nbconvert_exporter": "python",
   "pygments_lexer": "ipython3",
   "version": "3.12.3"
  }
 },
 "nbformat": 4,
 "nbformat_minor": 2
}
